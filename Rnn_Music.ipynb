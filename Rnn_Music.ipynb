{
  "nbformat": 4,
  "nbformat_minor": 0,
  "metadata": {
    "colab": {
      "name": "Rnn Music.ipynb",
      "provenance": [],
      "collapsed_sections": []
    },
    "kernelspec": {
      "name": "python3",
      "display_name": "Python 3"
    },
    "language_info": {
      "name": "python"
    },
    "accelerator": "GPU"
  },
  "cells": [
    {
      "cell_type": "markdown",
      "metadata": {
        "id": "06Nlu_2NX3gh"
      },
      "source": [
        "![Header-Breathtakingly-Beautiful-Piano-Pieces.jpg](data:image/jpeg;base64,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)"
      ]
    },
    {
      "cell_type": "code",
      "metadata": {
        "id": "CeeEShDBK5Gl"
      },
      "source": [
        "import glob\n",
        "import pickle\n",
        "import numpy as np\n",
        "import os\n",
        "import torch, torch.nn as nn\n",
        "import torch.nn.functional as F\n",
        "import matplotlib as plt\n",
        "import pathlib\n",
        "from music21 import converter, instrument, note, chord, stream"
      ],
      "execution_count": 2,
      "outputs": []
    },
    {
      "cell_type": "code",
      "metadata": {
        "colab": {
          "base_uri": "https://localhost:8080/"
        },
        "id": "hA4VDxziPnoi",
        "outputId": "9ffbf0d2-8ee3-48ad-f81f-2dd7d04bec72"
      },
      "source": [
        "#Show some midi files\n",
        "midi_files = os.listdir('./drive/MyDrive/data')\n",
        "midi_files[:10]"
      ],
      "execution_count": null,
      "outputs": [
        {
          "output_type": "execute_result",
          "data": {
            "text/plain": [
              "['0fithos.mid',\n",
              " '8.mid',\n",
              " 'BlueStone_LastDungeon.mid',\n",
              " 'DOS.mid',\n",
              " 'Cids.mid',\n",
              " 'AT.mid',\n",
              " 'Final_Fantasy_Matouyas_Cave_Piano.mid',\n",
              " 'HighwindTakestotheSkies.mid',\n",
              " 'Eternal_Harvest.mid',\n",
              " 'OTD5YA.mid']"
            ]
          },
          "metadata": {
            "tags": []
          },
          "execution_count": 152
        }
      ]
    },
    {
      "cell_type": "markdown",
      "metadata": {
        "id": "TWVMOxnxQ69V"
      },
      "source": [
        "#Audio Processing\n",
        "First step we should do is present full set of unique notes and chords that dataset contains. Let's call it tokens"
      ]
    },
    {
      "cell_type": "code",
      "metadata": {
        "colab": {
          "base_uri": "https://localhost:8080/"
        },
        "id": "dKQF7nA1uwMd",
        "outputId": "57ca9cbe-31b7-482d-dc95-62b882e75da1"
      },
      "source": [
        "midis = list()\n",
        "for file in glob.glob(\"./drive/MyDrive/data/*.mid\"):\n",
        "  midi = converter.parse(file)\n",
        "  midis.append(midi)\n",
        "\n",
        "midis = np.array(midis)"
      ],
      "execution_count": null,
      "outputs": [
        {
          "output_type": "stream",
          "text": [
            "/usr/local/lib/python3.7/dist-packages/ipykernel_launcher.py:6: VisibleDeprecationWarning: Creating an ndarray from ragged nested sequences (which is a list-or-tuple of lists-or-tuples-or ndarrays with different lengths or shapes) is deprecated. If you meant to do this, you must specify 'dtype=object' when creating the ndarray\n",
            "  \n"
          ],
          "name": "stderr"
        }
      ]
    },
    {
      "cell_type": "code",
      "metadata": {
        "id": "Gfzf7wVOxI4S"
      },
      "source": [
        "#This function convert midi to strig notation\n",
        "\n",
        "def midi_to_string_notation(midi):\n",
        "  string_notation = list()\n",
        "  string_notation.append(' ')\n",
        "  notes_to_parse = None\n",
        "  parts = instrument.partitionByInstrument(midi)\n",
        "  if parts:  # file has instrument parts\n",
        "    notes_to_parse = parts.parts[0].recurse()\n",
        "  else:  # file has notes in a flat structure\n",
        "    notes_to_parse = midi.flat.notes\n",
        "  for element in notes_to_parse:\n",
        "    if isinstance(element, note.Note):\n",
        "      string_notation.append(str(element.pitch))\n",
        "    elif isinstance(element, chord.Chord):\n",
        "      string_notation.append('.'.join(str(n) for n in element.normalOrder))\n",
        "  return np.array(string_notation)"
      ],
      "execution_count": null,
      "outputs": []
    },
    {
      "cell_type": "code",
      "metadata": {
        "colab": {
          "base_uri": "https://localhost:8080/"
        },
        "id": "Hy59hOV3zVjK",
        "outputId": "84b70242-5e60-45ce-f3b9-de54d102de4b"
      },
      "source": [
        "#Example\n",
        "string_notation = midi_to_string_notation(midis[3])\n",
        "print(string_notation[:10], '...')\n",
        "print('Len of the composition:', len(string_notation))"
      ],
      "execution_count": null,
      "outputs": [
        {
          "output_type": "stream",
          "text": [
            "[' ' 'G2' 'G3' '7.0' 'G3' 'B2' 'G3' '7.11' 'G3' 'A2'] ...\n",
            "Len of the composition: 625\n"
          ],
          "name": "stdout"
        }
      ]
    },
    {
      "cell_type": "code",
      "metadata": {
        "colab": {
          "base_uri": "https://localhost:8080/"
        },
        "id": "ICeeqI8J-ACA",
        "outputId": "399d5933-479e-47bc-a71e-e18370ffcb40"
      },
      "source": [
        "#Here we convert all midis to their string notation\n",
        "\n",
        "string_notations = list()\n",
        "\n",
        "for midi in midis:\n",
        "  string_notations.append(midi_to_string_notation(midi))\n",
        "\n",
        "string_notations = np.array(string_notations)\n",
        "\n",
        "assert len(midis) == len(string_notations)"
      ],
      "execution_count": null,
      "outputs": [
        {
          "output_type": "stream",
          "text": [
            "/usr/local/lib/python3.7/dist-packages/ipykernel_launcher.py:8: VisibleDeprecationWarning: Creating an ndarray from ragged nested sequences (which is a list-or-tuple of lists-or-tuples-or ndarrays with different lengths or shapes) is deprecated. If you meant to do this, you must specify 'dtype=object' when creating the ndarray\n",
            "  \n"
          ],
          "name": "stderr"
        }
      ]
    },
    {
      "cell_type": "code",
      "metadata": {
        "id": "t2_sTl7E60Cn"
      },
      "source": [
        "import matplotlib.pyplot as plt\n",
        "\n",
        "MAX_LENGTH = max(map(len, string_notations))\n",
        "\n",
        "def show_statistics(string_notations):\n",
        "  sum = 0\n",
        "  for string_notation in string_notations:\n",
        "    sum = sum + len(string_notation)\n",
        "\n",
        "  MEAN_LENGTH = sum/len(string_notations)\n",
        "\n",
        "  print('amount=', len(string_notations))\n",
        "  print(\"max length =\", MAX_LENGTH)\n",
        "  print('mean length =', int(MEAN_LENGTH))\n",
        "\n",
        "  plt.title('Composition length distribution')\n",
        "  plt.hist(list(map(len, string_notations)),bins=25);"
      ],
      "execution_count": null,
      "outputs": []
    },
    {
      "cell_type": "code",
      "metadata": {
        "colab": {
          "base_uri": "https://localhost:8080/",
          "height": 330
        },
        "id": "jBR75CX4_6JW",
        "outputId": "0a85c26a-b996-44f5-d82a-6cab54313201"
      },
      "source": [
        "show_statistics(string_notations)"
      ],
      "execution_count": null,
      "outputs": [
        {
          "output_type": "stream",
          "text": [
            "amount= 92\n",
            "max length = 2211\n",
            "mean length = 622\n"
          ],
          "name": "stdout"
        },
        {
          "output_type": "display_data",
          "data": {
            "image/png": "[encoded data removed]",
            "text/plain": [
              "<Figure size 432x288 with 1 Axes>"
            ]
          },
          "metadata": {
            "tags": [],
            "image/png": {
              "width": 369,
              "height": 263
            },
            "needs_background": "light"
          }
        }
      ]
    },
    {
      "cell_type": "code",
      "metadata": {
        "id": "-fXTFbH29zOL"
      },
      "source": [
        "filter = []\n",
        "\n",
        "for string_notation in string_notations:\n",
        "  if len(string_notation) > 662:\n",
        "    filter.append(False)\n",
        "  if len(string_notation) <= 662:\n",
        "    filter.append(True)\n",
        "  \n",
        "string_notations = string_notations[filter]"
      ],
      "execution_count": null,
      "outputs": []
    },
    {
      "cell_type": "code",
      "metadata": {
        "id": "iFkU9hP5CliY"
      },
      "source": [
        "index = []\n",
        "\n",
        "for i in range(string_notations.shape[0]):\n",
        "  if string_notations[i].shape[0] == 1:\n",
        "    index.append(i)\n",
        "\n",
        "string_notations = np.delete(string_notations, index)"
      ],
      "execution_count": null,
      "outputs": []
    },
    {
      "cell_type": "code",
      "metadata": {
        "colab": {
          "base_uri": "https://localhost:8080/",
          "height": 330
        },
        "id": "P-ezsWTqCExu",
        "outputId": "8ae86b9f-e363-4c10-fb95-a5536d1eeec8"
      },
      "source": [
        "show_statistics(string_notations)"
      ],
      "execution_count": null,
      "outputs": [
        {
          "output_type": "stream",
          "text": [
            "amount= 56\n",
            "max length = 2211\n",
            "mean length = 387\n"
          ],
          "name": "stdout"
        },
        {
          "output_type": "display_data",
          "data": {
            "image/png": "[encoded data removed]",
            "text/plain": [
              "<Figure size 432x288 with 1 Axes>"
            ]
          },
          "metadata": {
            "tags": [],
            "image/png": {
              "width": 362,
              "height": 263
            },
            "needs_background": "light"
          }
        }
      ]
    },
    {
      "cell_type": "code",
      "metadata": {
        "id": "EkM0yteGRX_E"
      },
      "source": [
        "tokens = set()\n",
        "for string_notation in string_notations:\n",
        "  for elem in string_notation:\n",
        "    tokens.add(elem)"
      ],
      "execution_count": null,
      "outputs": []
    },
    {
      "cell_type": "code",
      "metadata": {
        "colab": {
          "base_uri": "https://localhost:8080/"
        },
        "id": "v_cW1e5CUKPX",
        "outputId": "e86a2f6d-0bb9-4540-d4c5-d338e7b1464e"
      },
      "source": [
        "tokens = sorted(tokens)\n",
        "num_tokens = len(tokens)\n",
        "print('Amount of tokes: ', num_tokens)"
      ],
      "execution_count": null,
      "outputs": [
        {
          "output_type": "stream",
          "text": [
            "Amount of tokes:  265\n"
          ],
          "name": "stdout"
        }
      ]
    },
    {
      "cell_type": "markdown",
      "metadata": {
        "id": "21pQRwEYU3m_"
      },
      "source": [
        "#Encoding\n",
        "Now let's give each unique token its own id"
      ]
    },
    {
      "cell_type": "code",
      "metadata": {
        "colab": {
          "base_uri": "https://localhost:8080/"
        },
        "id": "BPFSl5baUw0h",
        "outputId": "379ac246-3851-4731-b241-ba1beb13d3d1"
      },
      "source": [
        "token_to_id = {}  \n",
        "for i in range(len(tokens)):\n",
        "  token_to_id[tokens[i]] = i\n",
        "\n",
        "print(token_to_id)"
      ],
      "execution_count": null,
      "outputs": [
        {
          "output_type": "stream",
          "text": [
            "{' ': 0, '0': 1, '0.1': 2, '0.2': 3, '0.2.4.7': 4, '0.2.5': 5, '0.2.6': 6, '0.2.7': 7, '0.3': 8, '0.3.5': 9, '0.3.5.8': 10, '0.3.6': 11, '0.3.6.9': 12, '0.3.7': 13, '0.4': 14, '0.4.5': 15, '0.4.6': 16, '0.4.7': 17, '0.5': 18, '0.6': 19, '1': 20, '1.2': 21, '1.2.6.8': 22, '1.3': 23, '1.3.5.8': 24, '1.3.6': 25, '1.3.8': 26, '1.4': 27, '1.4.6.9': 28, '1.4.7.9': 29, '1.4.8': 30, '1.5': 31, '1.5.8': 32, '1.5.9': 33, '1.6': 34, '1.7': 35, '10': 36, '10.0': 37, '10.0.2.5': 38, '10.0.3': 39, '10.0.5': 40, '10.1': 41, '10.1.3': 42, '10.1.3.5.6': 43, '10.1.3.6': 44, '10.1.5': 45, '10.2': 46, '10.2.3': 47, '10.2.5': 48, '10.3': 49, '11': 50, '11.0': 51, '11.0.4': 52, '11.0.4.6': 53, '11.0.4.7': 54, '11.1.4': 55, '11.1.6': 56, '11.2': 57, '11.2.4': 58, '11.2.4.7': 59, '11.2.5': 60, '11.2.5.7': 61, '11.2.6': 62, '11.3': 63, '11.3.6': 64, '11.4': 65, '2': 66, '2.3': 67, '2.3.7': 68, '2.3.7.10': 69, '2.3.7.9': 70, '2.4': 71, '2.4.5.9': 72, '2.4.8': 73, '2.4.9': 74, '2.5': 75, '2.5.7.10': 76, '2.5.8': 77, '2.5.9': 78, '2.6': 79, '2.6.10': 80, '2.6.9': 81, '2.7': 82, '2.7.8': 83, '2.8': 84, '3': 85, '3.4.8': 86, '3.5': 87, '3.5.10': 88, '3.5.7.10': 89, '3.5.8': 90, '3.6': 91, '3.6.10': 92, '3.6.7': 93, '3.6.8': 94, '3.6.9.11': 95, '3.7': 96, '3.7.10': 97, '3.7.9': 98, '3.7.9.10': 99, '3.8': 100, '3.8.9': 101, '3.9': 102, '4': 103, '4.10': 104, '4.5': 105, '4.5.7.11': 106, '4.5.9.0': 107, '4.5.9.11': 108, '4.6': 109, '4.6.11': 110, '4.6.7': 111, '4.6.8.11.1': 112, '4.7': 113, '4.7.11': 114, '4.7.9': 115, '4.7.9.0': 116, '4.8': 117, '4.8.11': 118, '4.8.9': 119, '4.9': 120, '5': 121, '5.10': 122, '5.11': 123, '5.7': 124, '5.7.0': 125, '5.7.10': 126, '5.8': 127, '5.8.0': 128, '5.8.10': 129, '5.8.11': 130, '5.9': 131, '5.9.0': 132, '5.9.11': 133, '5.9.11.0': 134, '6': 135, '6.10': 136, '6.10.0': 137, '6.10.1': 138, '6.11': 139, '6.7': 140, '6.7.0': 141, '6.7.11': 142, '6.8.1': 143, '6.9': 144, '6.9.0': 145, '6.9.1': 146, '7': 147, '7.0': 148, '7.10': 149, '7.10.0': 150, '7.10.0.3': 151, '7.10.1.3': 152, '7.10.2': 153, '7.11': 154, '7.11.0': 155, '7.11.2': 156, '7.8.0': 157, '7.9': 158, '7.9.0': 159, '7.9.11.2': 160, '7.9.2': 161, '8': 162, '8.0': 163, '8.0.3': 164, '8.1': 165, '8.10': 166, '8.10.1': 167, '8.10.11.1.4': 168, '8.10.3': 169, '8.11': 170, '8.11.1': 171, '8.11.1.4': 172, '8.9.1': 173, '9': 174, '9.0': 175, '9.0.2': 176, '9.0.2.4': 177, '9.0.2.5': 178, '9.0.3.5': 179, '9.0.4': 180, '9.1': 181, '9.1.4': 182, '9.10.2': 183, '9.10.2.4': 184, '9.11': 185, '9.11.0.4': 186, '9.11.1': 187, '9.11.2': 188, '9.11.2.4': 189, '9.11.2.5': 190, '9.11.4': 191, '9.2': 192, '9.2.3': 193, 'A1': 194, 'A2': 195, 'A3': 196, 'A4': 197, 'A5': 198, 'A6': 199, 'B-1': 200, 'B-2': 201, 'B-3': 202, 'B-4': 203, 'B-5': 204, 'B-6': 205, 'B1': 206, 'B2': 207, 'B3': 208, 'B4': 209, 'B5': 210, 'C#1': 211, 'C#2': 212, 'C#3': 213, 'C#4': 214, 'C#5': 215, 'C#6': 216, 'C2': 217, 'C3': 218, 'C4': 219, 'C5': 220, 'C6': 221, 'C7': 222, 'D1': 223, 'D2': 224, 'D3': 225, 'D4': 226, 'D5': 227, 'D6': 228, 'E-1': 229, 'E-2': 230, 'E-3': 231, 'E-4': 232, 'E-5': 233, 'E-6': 234, 'E1': 235, 'E2': 236, 'E3': 237, 'E4': 238, 'E5': 239, 'E6': 240, 'F#1': 241, 'F#2': 242, 'F#3': 243, 'F#4': 244, 'F#5': 245, 'F#6': 246, 'F1': 247, 'F2': 248, 'F3': 249, 'F4': 250, 'F5': 251, 'F6': 252, 'G#1': 253, 'G#2': 254, 'G#3': 255, 'G#4': 256, 'G#5': 257, 'G#6': 258, 'G1': 259, 'G2': 260, 'G3': 261, 'G4': 262, 'G5': 263, 'G6': 264}\n"
          ],
          "name": "stdout"
        }
      ]
    },
    {
      "cell_type": "code",
      "metadata": {
        "id": "wNrxHjDYYuGK"
      },
      "source": [
        "#Function that returns matrix of string notations encoded by our tokens\n",
        "\n",
        "def to_matrix(string_notations, max_len=None, pad=token_to_id[' '], dtype='int32', batch_first = True):\n",
        "\n",
        "  max_len = max(map(len, string_notations))\n",
        "  lines_ix = np.zeros([len(string_notations), max_len], dtype) + pad\n",
        "  for i in range(len(string_notations)):\n",
        "    line_ix = [token_to_id[c] for c in string_notations[i]]\n",
        "    lines_ix[i, :len(line_ix)] = line_ix\n",
        "      \n",
        "  if not batch_first: # convert [batch, time] into [time, batch]\n",
        "    lines_ix = np.transpose(lines_ix)\n",
        "  return lines_ix"
      ],
      "execution_count": null,
      "outputs": []
    },
    {
      "cell_type": "code",
      "metadata": {
        "colab": {
          "base_uri": "https://localhost:8080/"
        },
        "id": "BgECWXIrplGF",
        "outputId": "4e57a2fa-652e-46c7-8c13-75e61cf875e0"
      },
      "source": [
        "#Example: cast some\n",
        "to_matrix(string_notations, max_len=MAX_LENGTH)[:5]"
      ],
      "execution_count": null,
      "outputs": [
        {
          "output_type": "execute_result",
          "data": {
            "text/plain": [
              "array([[  0, 220, 238, ...,   0,   0,   0],\n",
              "       [  0, 260, 261, ...,   0,   0,   0],\n",
              "       [  0, 219,  13, ...,   0,   0,   0],\n",
              "       [  0, 209,  50, ...,   0,   0,   0],\n",
              "       [  0, 197, 180, ...,   0,   0,   0]], dtype=int32)"
            ]
          },
          "metadata": {
            "tags": []
          },
          "execution_count": 174
        }
      ]
    },
    {
      "cell_type": "markdown",
      "metadata": {
        "id": "JheujiUBpVyI"
      },
      "source": [
        "#Model"
      ]
    },
    {
      "cell_type": "code",
      "metadata": {
        "id": "uUTM5QG2BQCB"
      },
      "source": [
        "class CharRNNCell(nn.Module):\n",
        "    \"\"\"\n",
        "    Implement the scheme above as torch module\n",
        "    \"\"\"\n",
        "    def __init__(self, num_tokens=len(tokens), embedding_size=16, rnn_num_units=500):\n",
        "        super(self.__class__,self).__init__()\n",
        "        self.num_units = rnn_num_units\n",
        "        \n",
        "        self.embedding = nn.Embedding(num_tokens, embedding_size)\n",
        "        self.rnn_update = nn.Linear(embedding_size + rnn_num_units, rnn_num_units)\n",
        "        self.rnn_to_logits = nn.Linear(rnn_num_units, num_tokens)\n",
        "        \n",
        "    def forward(self, x, h_prev):\n",
        "        \"\"\"\n",
        "        This method computes h_next(x, h_prev) and log P(x_next | h_next)\n",
        "        We'll call it repeatedly to produce the whole sequence.\n",
        "        \n",
        "        :param x: batch of character ids, int64[batch_size]\n",
        "        :param h_prev: previous rnn hidden states, float32 matrix [batch, rnn_num_units]\n",
        "        \"\"\"\n",
        "        # get vector embedding of x\n",
        "        x_emb = self.embedding(x)\n",
        "        \n",
        "        # compute next hidden state using self.rnn_update\n",
        "        # hint: use torch.cat(..., dim=...) for concatenation\n",
        "        h_next = self.rnn_update(torch.cat((x_emb, h_prev), 1))\n",
        "        \n",
        "        h_next = torch.tanh(h_next)\n",
        "        \n",
        "        assert h_next.size() == h_prev.size()\n",
        "        \n",
        "        #compute logits for next character probs\n",
        "        logits = self.rnn_to_logits(h_next)\n",
        "        \n",
        "        return h_next, F.log_softmax(logits, -1)\n",
        "    \n",
        "    def initial_state(self, batch_size):\n",
        "        return torch.zeros(batch_size, self.num_units)"
      ],
      "execution_count": null,
      "outputs": []
    },
    {
      "cell_type": "code",
      "metadata": {
        "id": "eMgGqRtQpe44"
      },
      "source": [
        "char_rnn = CharRNNCell()"
      ],
      "execution_count": null,
      "outputs": []
    },
    {
      "cell_type": "code",
      "metadata": {
        "id": "o-yue5rgphdR"
      },
      "source": [
        "def rnn_loop(char_rnn, batch_ix):\n",
        "    batch_size, max_length = batch_ix.size()\n",
        "    hid_state = char_rnn.initial_state(batch_size)\n",
        "    logprobs = []\n",
        "\n",
        "    for x_t in batch_ix.transpose(0,1):\n",
        "        hid_state, logp_next = char_rnn(x_t, hid_state)  # <-- here we call your one-step code\n",
        "        logprobs.append(logp_next)\n",
        "        \n",
        "    return torch.stack(logprobs, dim=1)"
      ],
      "execution_count": null,
      "outputs": []
    },
    {
      "cell_type": "code",
      "metadata": {
        "colab": {
          "base_uri": "https://localhost:8080/"
        },
        "id": "qFQjeu_bplsL",
        "outputId": "8b6b2804-d62a-40cd-acdc-f5f78f20ff36"
      },
      "source": [
        "batch_ix = to_matrix(string_notations[:5], max_len=MAX_LENGTH)\n",
        "batch_ix = torch.tensor(batch_ix, dtype=torch.int64)\n",
        "print(batch_ix)\n",
        "\n",
        "logp_seq = rnn_loop(char_rnn, batch_ix)\n",
        "\n",
        "print(torch.argmax(logp_seq, dim = 2))\n",
        "\n",
        "assert torch.max(logp_seq).data.numpy() <= 0\n",
        "assert tuple(logp_seq.size()) ==  batch_ix.shape + (num_tokens,)"
      ],
      "execution_count": null,
      "outputs": [
        {
          "output_type": "stream",
          "text": [
            "tensor([[  0, 220, 238,  ...,   0,   0,   0],\n",
            "        [  0, 260, 261,  ..., 198, 210, 242],\n",
            "        [  0, 219,  13,  ...,   0,   0,   0],\n",
            "        [  0, 209,  50,  ...,   0,   0,   0],\n",
            "        [  0, 197, 180,  ...,   0,   0,   0]])\n",
            "tensor([[257, 210,  63,  ...,  81,  81,  81],\n",
            "        [257, 214,  81,  ...,  81, 144,  63],\n",
            "        [257, 202,  81,  ...,  81,  81,  81],\n",
            "        [257, 214, 187,  ...,  81,  81,  81],\n",
            "        [257,  88, 169,  ...,  81,  81,  81]])\n"
          ],
          "name": "stdout"
        }
      ]
    },
    {
      "cell_type": "code",
      "metadata": {
        "id": "ASNSL_CzqIPa"
      },
      "source": [
        "predictions_logp = logp_seq[:, :-1]\n",
        "actual_next_tokens = batch_ix[:, 1:]\n",
        "\n",
        "logp_next = torch.gather(predictions_logp, dim=2, index=actual_next_tokens[:,:,None])\n",
        "\n",
        "loss = -logp_next.mean() "
      ],
      "execution_count": null,
      "outputs": []
    },
    {
      "cell_type": "code",
      "metadata": {
        "id": "NkMutDUgqJ8D"
      },
      "source": [
        " loss.backward()"
      ],
      "execution_count": null,
      "outputs": []
    },
    {
      "cell_type": "markdown",
      "metadata": {
        "id": "7lDkUvyYqO4h"
      },
      "source": [
        "#Training"
      ]
    },
    {
      "cell_type": "code",
      "metadata": {
        "id": "4wYdp6_MqOOQ"
      },
      "source": [
        "from IPython.display import clear_output\n",
        "from random import sample\n",
        "\n",
        "char_rnn = CharRNNCell()\n",
        "opt = torch.optim.Adam(char_rnn.parameters())\n",
        "history = []"
      ],
      "execution_count": null,
      "outputs": []
    },
    {
      "cell_type": "code",
      "metadata": {
        "colab": {
          "base_uri": "https://localhost:8080/",
          "height": 265
        },
        "id": "GuQon5g_qYID",
        "outputId": "b1fb3bf6-0bae-4a13-c206-bcb6862a0b28"
      },
      "source": [
        "MAX_LENGTH = max(map(len, string_notations))\n",
        "\n",
        "for i in range(1000):\n",
        "    batch_ix = to_matrix(sample(list(string_notations), 32), max_len=MAX_LENGTH)\n",
        "    batch_ix = torch.tensor(batch_ix, dtype=torch.int64)\n",
        "    \n",
        "    logp_seq = rnn_loop(char_rnn, batch_ix)\n",
        "\n",
        "    # compute loss\n",
        "    predictions_logp = logp_seq[:, :-1]\n",
        "    actual_next_tokens = batch_ix[:, 1:]\n",
        "\n",
        "    logp_next = torch.gather(predictions_logp, dim=2, index=actual_next_tokens[:,:,None])\n",
        "\n",
        "    loss = -logp_next.mean()\n",
        "    \n",
        "    # train with backprop\n",
        "    opt.zero_grad()\n",
        "    loss.backward()\n",
        "    opt.step()\n",
        "    print(\"Iteration passed:\", i)\n",
        "    \n",
        "    \n",
        "    history.append(loss.data.numpy())\n",
        "    if (i+1)%100==0:\n",
        "        clear_output(True)\n",
        "        plt.plot(history,label='loss')\n",
        "        plt.legend()\n",
        "        plt.show()"
      ],
      "execution_count": null,
      "outputs": [
        {
          "output_type": "display_data",
          "data": {
            "image/png": "[encoded data removed]",
            "text/plain": [
              "<Figure size 432x288 with 1 Axes>"
            ]
          },
          "metadata": {
            "tags": [],
            "image/png": {
              "width": 362,
              "height": 248
            },
            "needs_background": "light"
          }
        }
      ]
    },
    {
      "cell_type": "code",
      "metadata": {
        "id": "KVj9WUl6Dqge"
      },
      "source": [
        "def generate_sample(char_rnn, seed_phrase=' ', max_length=MAX_LENGTH, temperature=1.0):\n",
        "    \n",
        "    x_sequence = [token_to_id[token] for token in seed_phrase]\n",
        "    x_sequence = torch.tensor([x_sequence], dtype=torch.int64)\n",
        "    hid_state = char_rnn.initial_state(batch_size=1)\n",
        "    \n",
        "    #feed the seed phrase, if any\n",
        "    for i in range(len(seed_phrase) - 1):\n",
        "        hid_state, _ = char_rnn(x_sequence[:, i], hid_state)\n",
        "    \n",
        "    #start generating\n",
        "    for _ in range(max_length - len(seed_phrase)):\n",
        "        hid_state, logp_next = char_rnn(x_sequence[:, -1], hid_state)\n",
        "        p_next = F.softmax(logp_next / temperature, dim=-1).data.numpy()[0]\n",
        "        \n",
        "        # sample next token and push it back into x_sequence\n",
        "        next_ix = np.random.choice(num_tokens,p=p_next)\n",
        "        next_ix = torch.tensor([[next_ix]], dtype=torch.int64)\n",
        "        x_sequence = torch.cat([x_sequence, next_ix], dim=1)\n",
        "        \n",
        "    return [tokens[ix] for ix in x_sequence.data.numpy()[0]]"
      ],
      "execution_count": null,
      "outputs": []
    },
    {
      "cell_type": "code",
      "metadata": {
        "colab": {
          "base_uri": "https://localhost:8080/"
        },
        "id": "qFegPLEtNOtB",
        "outputId": "f444a2e2-dd01-46e3-cfec-e6df290a6c3c"
      },
      "source": [
        "print(generate_sample(char_rnn))"
      ],
      "execution_count": null,
      "outputs": [
        {
          "output_type": "stream",
          "text": [
            "[' ', 'B-2', 'F4', 'G2', '0.5', 'F4', 'B-2', ' ', 'B-1', 'F5', '0.4', '0.3', 'C5', '9.2', '5.9', '0.4', '0.3', 'F3', '9.0.2', '10', 'B-1', '0.4', 'E-3', '2.5.9', 'E-4', 'D6', 'F5', '9.2.3', 'D6', '2', 'D3', '10.2', 'A3', 'D5', 'E5', 'B3', 'D2', 'F3', 'A5', 'A2', '2.5', 'F3', 'E3', 'G3', 'D3', 'F3', 'D3', 'G3', 'D3', 'F3', 'A2', '2.5', 'F3', 'A2', '7.11', 'D3', 'D3', '9.0', '2.5', 'A2', '4.7', 'B3', '0.4', 'B3', 'E3', '10.2', 'G3', 'B3', 'A3', 'B3', 'A3', 'B3', 'C4', 'C4', 'A1', 'A3', 'F3', '4', 'B-2', 'B-3', 'C4', 'C4', 'A1', 'F3', 'B3', 'D4', 'B3', 'C5', 'G2', '11.1.6', 'G5', '0.2.7', '9.0.2.5', 'G3', 'D5', 'C4', '4.7', 'G3', 'C5', 'D4', 'E4', 'C4', 'G#4', 'D4', 'G3', 'C4', 'C3', 'F3', 'E6', 'G3', 'D3', 'G3', 'A3', 'D4', '2.7', 'D3', 'F5', 'B-3', 'B-4', 'G3', 'C5', 'F3', 'G3', 'E6', 'G3', 'G5', 'E4', '7.11', 'G3', 'B5', 'C6', 'D6', 'G3', 'G5', 'C6', 'D5', 'G3', 'F5', 'D3', 'C3', 'A3', '0.4', 'C5', 'A5', 'G5', '0.4', 'G3', 'F3', 'G2', '5.9', '2.5', 'D6', 'C3', 'C6', 'G2', 'G2', 'D4', 'C6', '0.4.7', 'C3', 'D5', 'C6', 'C3', 'C2', 'G2', 'G5', 'A5', 'C4', '4.7', 'G5', '2.5', 'F5', 'C3', 'A5', '10.2', 'G5', 'C#4', 'F6', '5.7.0', 'G6', ' ', 'D6', 'D4', 'D3', 'G4', '2', 'D4', 'F4', 'D4', 'D5', 'D4', 'F5', 'B-5', 'D5', 'D4', 'G5', 'D4', 'C5', 'F5', 'D5', 'D4', 'F5', 'E-5', 'C6', 'E4', 'C5', 'A3', 'C2', 'G5', 'G4', 'D5', 'F4', 'C4', 'G4', 'G2', 'A4', 'A4', 'B-4', 'C5', 'G1', 'A4', 'F4', 'B4', 'A4', 'C5', 'A3', 'C2', 'C5', 'D5', 'C5', 'B-4', 'C4', 'C5', 'F6', 'A3', 'C5', 'C4', 'C#3', 'B-4', 'C4', 'F4', 'D4', 'G4', 'C4', 'B-4', 'D4', 'D4', 'B-4', 'D4', 'B-4', 'D4', 'B-4', 'D4', 'B-4', 'D4', 'B-4', 'D4', 'F4', 'D4', 'D5', 'D4', 'F4', 'D5', 'C5', 'B-3', 'G4', 'A4', 'B-4', 'B-4', 'C5', 'A4', 'C5', 'B-4', 'D5', 'C5', 'D5', 'E5', 'F5', 'D3', 'E5', 'C5', 'D5', 'F3', 'E5', 'B-3', 'C5', 'B3', 'D3', 'D4', 'B-3', 'D4', 'C4', 'G3', 'D4', 'B-3', 'B3', 'D4', 'G4', 'G5', 'C6', 'D3', 'G3', 'B-3', 'D3', 'A3', 'E-5', 'G5', 'A5', 'C5', 'G3', 'G#4', 'B4', 'G3', 'D3', 'A4', 'A4', 'A3', 'B4', 'A4', 'C5', 'D5', 'B4', 'B4', '4.7.11', 'D3', 'F3', 'A3', 'C5', '0.4', 'D3', 'A3', '11.2', 'B4', 'G2', 'C5', 'A2', 'B-2', 'F3', 'G2', '0.4', 'B2', '5.9', 'B2', 'G2', 'G3', 'F#4', 'B3', 'B2', 'F#4', 'F#2', 'A4', 'B3', 'G3', 'B2', 'E4', '7.11', 'G3', 'B2', 'G2', 'D3', 'F#4', 'A3', 'G2', 'G2', 'G2', 'G3', 'D2', 'G4', 'A2', 'C5', 'B4', 'C5', 'D4', 'A4', 'B-4', 'A2', 'C5', 'C3', 'G3', 'A2', 'A2', 'A3', 'F#3', 'A4', 'A2', 'D5', 'A2', 'A2', '9.0.4', 'F#3', 'G#3', 'A2', 'A2', '4.9', 'A2', 'B4', 'E3', 'A2', 'A2', '9.0', '5.9', '7.11', 'F3', 'A2', '5.9', 'D3', 'D3', 'F3', '2.5', '9.2', 'D3', 'G2', 'B-2', 'D5', 'G2', '11.2', 'G2', 'D3', '11.2', 'G2', 'G2', '11.2', 'G2', 'G2', 'G2', 'G2', 'G2', 'A2', 'G4', 'G2', 'A2', 'B2', '2', 'B2', 'A2', 'A2', 'A2', '9.0', '9.11', '8.1', '9.0', 'A2', '9.0', '9.0', '1.6', '8.1', '2.7', '11.4', 'G4', '1.6', 'E4', 'G#4', 'G4', 'F#4', '1.5', 'G4', 'F4', 'F4', '1.5', '3.7', 'F4', 'F4', '8.0', '7.10', 'G4', 'B-4', 'B-4', 'B-4', 'C5', 'B-4', '0.5', 'D5', '0.5', 'F5', 'G4', 'F5', 'F4', 'C5', 'B-4', 'G5', 'C5', '0.5', 'C5', 'F5', 'G5', '5.9.0', 'C5', 'G5', 'F#5', 'E5', 'C5', '0', '0', 'E5', 'F5', 'E5', 'C2', 'E5', 'C2', 'C5', 'G5', 'C5', '4.7.9.0', 'G4', 'B-4', 'C5', 'C5', 'G4', 'E5', 'C2', 'B-4', 'G4', 'C5', 'C2', 'C5', '6.10', 'D5', 'C2', 'C2', 'G4', 'C5', 'C5', 'B-4', 'G4', 'B-4', 'G1', 'B-4', 'G4', 'A4', 'C5', 'D5', 'G4', 'G1', 'B-4', 'G1', 'B-4', 'A4', 'B-4', 'G5', 'B-4', 'B-4', 'G1', 'F4', 'B-4', 'E5', 'C5', '0', 'C5', 'C5', 'C4', '0', 'C2', 'C2', 'C2', 'G5', '7.0', 'G4', 'C5', 'C2', 'C5', 'C5', 'G4', 'D5', '10.2', 'C5', 'A3', 'A4', 'F4', ' ', 'G#4', 'C5', 'A4', 'F4', 'B4', 'F4', 'A3', 'F4', 'A3', 'F4', 'A3', 'F4', 'A3', 'F4', 'A3', 'F4', 'A3', 'F4', 'A3', 'F4', 'D4', 'F4', 'D4', 'F4', 'D4', 'D4', 'C4', 'D4', 'D3', 'C4', 'C4', 'B3', 'D5', 'C4', 'E4', 'D4', 'C4', 'E4', 'C#4', 'C4', 'G5', 'D4', 'G4', 'D4', 'D3', 'C4', 'B5', 'D4', 'B5', 'D4', 'B4', 'C4', 'F#3', 'C4', 'D4', 'B3', 'G5', 'G3', 'D4', 'D4', 'C4', 'B5', 'A3', 'B3', 'G3', 'C4']\n"
          ],
          "name": "stdout"
        }
      ]
    },
    {
      "cell_type": "code",
      "metadata": {
        "id": "qcpThD0PDzKR"
      },
      "source": [
        "for _ in range(10):\n",
        "    print(len(generate_sample(char_rnn)))"
      ],
      "execution_count": null,
      "outputs": []
    }
  ]
}